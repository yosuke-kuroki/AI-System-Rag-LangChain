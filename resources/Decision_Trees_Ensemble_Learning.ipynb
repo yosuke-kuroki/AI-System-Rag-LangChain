{
 "nbformat": 4,
 "nbformat_minor": 0,
 "metadata": {
  "kernelspec": {
   "display_name": "Python 3",
   "language": "python",
   "name": "python3"
  },
  "language_info": {
   "codemirror_mode": {
    "name": "ipython",
    "version": 3
   },
   "file_extension": ".py",
   "mimetype": "text/x-python",
   "name": "python",
   "nbconvert_exporter": "python",
   "pygments_lexer": "ipython3",
   "version": "3.7.4"
  },
  "colab": {
   "provenance": []
  }
 },
 "cells": [
  {
   "cell_type": "markdown",
   "metadata": {
    "id": "mkUYF0gHmDP_"
   },
   "source": [
    "# Real-time Loan Approvals: Predictive Modeling with Ensemble Learning\n",
    "\n",
    "![ensemble](https://music.unc.edu/wp-content/uploads/sites/120/2013/09/1484014_10151881768213591_277633653_o.jpg)\n",
    "\n",
    "**Ensemble learning** is the process by which multiple models, such as classifiers, are generated and combined to solve a particular problem better than single models could.    \n",
    "\n",
    "Ensemble learning is commonly used in machine learning to improve classification or regression models."
   ]
  },
  {
   "cell_type": "markdown",
   "metadata": {
    "id": "3aNHXkwhojTf"
   },
   "source": [
    "# Today's Business Problem:\n",
    "\n",
    "\n",
    "![RoboLoan](https://www.open.edu/openlearn/pluginfile.php/3277516/tool_ocwmanage/articletext/0/wall-e-large.jpg)\n",
    "\n",
    "### **A Fintech wants to automate the loan approval process in real-time...**\n",
    "### **...based on information that applicants provide about themselves online.**\n",
    "\n",
    "1. What is the ***value*** of such automation?\n",
    "  - To the start-up\n",
    "  - To its client\n",
    "  - To the applicant\n",
    "\n",
    "2. What would a great ***product*** (or service) look like?\n",
    "  - From the client's perspective\n",
    "  - From the consumers' perspective\n",
    "\n",
    "3. What ***problem*** needs to be solved?\n",
    "\n",
    "4. What a potential ***pitfalls***?\n",
    "\n",
    "5. What ***data*** would the start-up require to solve the problem?\n",
    "\n"
   ]
  },
  {
   "cell_type": "markdown",
   "source": [
    "\n",
    "## **Supervised Machine Learning:** Predictions from data with ***labels*** and ***features***  \n",
    "\n",
    "*We will use Supervised (Machine) Learning to solve the FinTech's problem.*\n",
    "\n",
    "**Objective** of Supervised (Machine) Learning: Automate time-consuming or expensive manual tasks  \n",
    "\n",
    "**Examples:**\n",
    "- Recommendation systems\n",
    "- Email subject optimization\n",
    "- Fraud detection\n",
    "\n",
    "**Requires:** Labeled data  \n",
    "- Historical data with labels\n",
    "- Experiments to get labeled data\n",
    "- Crowd-sourcing labeled data\n",
    "\n",
    "**Taks/Models:**\n",
    "- Classification: should we target a consumer?\n",
    "- Regression: how much revenue can we expect from a consumer?\n",
    "\n",
    "Today, firms largely use (are biased towards) classification models.  \n",
    "This bias towards classification models is largely driven by the fact that most analytical problems involve making a decision that requires a simple Yes/No answer:\n",
    "\n",
    "\n",
    "#### Finance\n",
    "\n",
    " - Credit Scoring: Assessing the creditworthiness of individuals or companies to predict their likelihood of defaulting on loans.\n",
    " - Fraud Detection: Identifying fraudulent transactions in banking or credit card operations.\n",
    " - Customer Segmentation: Categorizing customers into different groups based on their spending behavior or preferences for targeted marketing.\n",
    " - Risk Management: Classifying investment opportunities or loans into various risk categories.\n",
    "\n",
    "#### Operations\n",
    "\n",
    " - Demand Forecasting: Predicting product demand to classify products into various demand levels for inventory management.\n",
    " - Quality Control: Using automated systems to classify products as defective or non-defective in manufacturing.\n",
    " - Predictive Maintenance: Identifying equipment or machinery that is likely to fail or need maintenance soon.\n",
    " - Supply Chain Management: Classifying suppliers based on reliability and performance.\n",
    "\n",
    "#### Human Resources (HR)\n",
    "\n",
    " - Employee Attrition Prediction: Predicting which employees are likely to leave the company.\n",
    " - Talent Acquisition: Automating the screening of job applications to classify candidates as suitable or not for further rounds.\n",
    " - Performance Evaluation: Classifying employees based on performance metrics for appraisals or promotions.\n",
    " - Employee Engagement Analysis: Categorizing employees based on engagement levels for targeted HR interventions.\n",
    "\n",
    "#### Accounting\n",
    "\n",
    " - Expense Classification: Automating the categorization of expenses into different accounts for accounting purposes.\n",
    " - Audit Risk Assessment: Identifying transactions or accounts that are at higher risk of errors or fraud for audit prioritization.\n",
    " - Financial Statement Analysis: Classifying companies or financial statements based on financial health indicators.\n",
    " - Tax Filing and Compliance: Classifying transactions for appropriate tax treatment and compliance.\n",
    "\n",
    "#### Healthcare\n",
    " - Medical Imaging Analysis: Using techniques like computer vision to classify images from MRIs, CT scans, and X-rays for the identification of abnormalities, tumors, fractures, etc.\n",
    " - Readmission Prediction: Identifying patients who are at a higher risk of readmission after discharge, which is important for improving patient outcomes and reducing healthcare costs.\n",
    " - Medical Billing and Coding: Automating the classification of diagnoses and procedures into the appropriate billing codes.\n",
    " - Clinical Trial Participant Selection: Identifying and classifying suitable participants for clinical trials based on their health status, medical history, and other criteria.\n",
    "\n",
    "Such analysis are insightful and can be directly linked to an implementation roadmap.\n"
   ],
   "metadata": {
    "id": "MI09M7pX7LT8"
   }
  },
  {
   "cell_type": "markdown",
   "metadata": {
    "id": "lIWlkK2m1P40"
   },
   "source": [
    "# 1. Dataset: ***Loan Eligibility and Applicant Information***\n",
    "\n",
    "[*Based on an Analytics Vidhya practice competition*](https://datahack.analyticsvidhya.com/contest/practice-problem-loan-prediction-iii/)\n",
    "\n",
    "A Fintech wants to automate the loan eligibility process (in real time) based on the details that applicants provide in their online application. These details are:\n",
    "\n",
    "- Gender\n",
    "- Marital Status\n",
    "- Education\n",
    "- Number of Dependents\n",
    "- Income\n",
    "- Loan Amount\n",
    "- Credit History and others.\n",
    "\n",
    "To automate this process, the Fintech needs to assign applicants to either being eligible for the requested loan (amount), or not. You are provided with a training dataset in which the loan eligibility is marked.\n",
    "The dataset contains the following variables:\n",
    "\n",
    "| Variable          \t | Description                     \t |\n",
    "|---------------------|-----------------------------------|\n",
    "| Loan_ID           \t | Unique Loan ID                  \t |\n",
    "| Gender            \t | Male/ Female                    \t |\n",
    "| Married           \t | Applicant married (Y/N)         \t |\n",
    "| Dependents        \t | Number of dependents            \t |\n",
    "| Education         \t | Graduate/ Under Graduate        \t |\n",
    "| Self_Employed     \t | Self employed (Y/N)             \t |\n",
    "| ApplicantIncome   \t | Applicant income                \t |\n",
    "| CoapplicantIncome \t | Coapplicant income              \t |\n",
    "| LoanAmount        \t | Loan amount in thousands        \t |\n",
    "| Loan_Amount_Term  \t | Term of loan in months          \t |\n",
    "| Credit_History    \t | credit history meets guidelines \t |\n",
    "| Property_Area     \t | Urban/ Semi Urban/ Rural        \t |\n",
    "| Loan_Status       \t | Loan approved (Y/N)             \t |\n",
    "\n",
    "You can download the dataset ***loan_train.csv*** from CANVAS along with the notebook of this class."
   ]
  },
  {
   "cell_type": "markdown",
   "metadata": {
    "id": "4heqjjwa1P41"
   },
   "source": [
    "## 1.1 Load and Explore the Data"
   ]
  },
  {
   "cell_type": "code",
   "metadata": {
    "id": "8vKaOhAJ1P41"
   },
   "source": [
    "# 1. Connect out notebook with out Google Drive and navigate to the directory in which we saved the data file(s)\n",
    "\n",
    "from google.colab import drive\n",
    "drive.mount('/content/gdrive')\n",
    "%cd /content/gdrive/MyDrive/488/Class18"
   ],
   "execution_count": null,
   "outputs": []
  },
  {
   "cell_type": "code",
   "source": [
    "!ls # special shell command to view the files in the home directory of the notebook environment (! command has no lasting effect)"
   ],
   "metadata": {
    "id": "BzxxgzMj1P41"
   },
   "execution_count": null,
   "outputs": []
  },
  {
   "cell_type": "markdown",
   "source": [
    "**A note on shell commands in python notebooks:** The difference between **!** and **%**\n",
    "\n",
    "- **!** calls out to a shell (in a new process),\n",
    "- **%** affects the process associated with the notebook (or the notebook itself)\n",
    "- many **%** commands have no shell counterpart.\n",
    "\n",
    "***!cd foo***, by itself, has no lasting effect, since the process with the changed directory immediately terminates.\n",
    "\n",
    "***%cd foo*** changes the current directory of the notebook process, which is a lasting effect."
   ],
   "metadata": {
    "id": "Dv_1cnRJ1P41"
   }
  },
  {
   "cell_type": "code",
   "metadata": {
    "id": "3oFyPmvR1P42"
   },
   "source": [
    "# 2. import some libraries that you will need for this step\n",
    "import numpy as np\n",
    "import pandas as pd\n",
    "import seaborn as sns\n",
    "from matplotlib import pyplot as plt\n",
    "%matplotlib inline\n",
    "\n",
    "# 3. import the data file\n",
    "data_train = pd.read_csv(\"loan_train.csv\") # parse to a Pandas DataFrame using pd.read_csv()\n",
    "\n",
    "# 4. Output the first 10 rows --> What do you observe?\n",
    "data_train.head(10)"
   ],
   "execution_count": null,
   "outputs": []
  },
  {
   "cell_type": "code",
   "source": [
    "# prompt: Using dataframe data_train: Describe this dataset in a few different ways\n",
    "\n",
    "# 5. Let's get some descriptives\n",
    "\n",
    "# Describe the entire dataset\n",
    "data_train.describe()\n",
    "# data_train.describe(include='number') $ Try me"
   ],
   "metadata": {
    "id": "FVQ9V_K7Rpn7"
   },
   "execution_count": null,
   "outputs": []
  },
  {
   "cell_type": "code",
   "source": [
    "# prompt: Using dataframe data_train: How many loan request were approved vs declined? make a histogram\n",
    "\n",
    "# 6. How many loan request were approved vs declined?\n",
    "loan_status_counts = data_train['Loan_Status'].value_counts()\n",
    "loan_status_counts.plot(kind='bar')\n"
   ],
   "metadata": {
    "id": "LyYkTvpsR4iX"
   },
   "execution_count": null,
   "outputs": []
  },
  {
   "cell_type": "code",
   "source": [
    "# prompt: Do the same for gender\n",
    "\n",
    "# 7. We could also look at counts for individual features\n",
    "print(data_train['Gender'].value_counts())\n",
    "data_train['Gender'].value_counts().plot(kind='bar')"
   ],
   "metadata": {
    "id": "BO5zwVPYSTgf"
   },
   "execution_count": null,
   "outputs": []
  },
  {
   "cell_type": "code",
   "metadata": {
    "id": "P_2x0U5C1P42"
   },
   "source": [
    "# 8. Let's create barcharts that show frequencies of approve vs. decline by categorical variable\n",
    "fig, axarr = plt.subplots(3, 2, figsize=(16, 14))\n",
    "sns.countplot(x='Married', hue = 'Loan_Status',data = data_train, ax=axarr[0][0])\n",
    "sns.countplot(x='Gender', hue = 'Loan_Status',data = data_train, ax=axarr[0][1])\n",
    "sns.countplot(x='Dependents', hue = 'Loan_Status',data = data_train, ax=axarr[1][0])\n",
    "sns.countplot(x='Self_Employed', hue = 'Loan_Status',data = data_train, ax=axarr[1][1])\n",
    "sns.countplot(x='Credit_History', hue = 'Loan_Status',data = data_train, ax=axarr[2][0])\n",
    "sns.countplot(x='Property_Area', hue = 'Loan_Status',data = data_train, ax=axarr[2][1])"
   ],
   "execution_count": null,
   "outputs": []
  },
  {
   "cell_type": "markdown",
   "source": [
    "## 1.2 Preprocess the Data"
   ],
   "metadata": {
    "id": "dh313immiBzs"
   }
  },
  {
   "cell_type": "code",
   "metadata": {
    "id": "kW3IAKZD1P43"
   },
   "source": [
    "# 1. The first column (Loan_ID) is not informative to our task. So let's drop it!\n",
    "data_train=data_train.drop(['Loan_ID'],axis=1)\n",
    "data_train.head()"
   ],
   "execution_count": null,
   "outputs": []
  },
  {
   "cell_type": "code",
   "metadata": {
    "id": "Eb5Q2LXq1P43"
   },
   "source": [
    "# 2. It's good practice to typecast categorical variables as such.\n",
    "# 2a. Fist, check again what type they are\n",
    "print(data_train.dtypes)"
   ],
   "execution_count": null,
   "outputs": []
  },
  {
   "cell_type": "code",
   "source": [
    "# prompt: Using dataframe data_train: Print each variable and its type\n",
    "\n",
    "# 2. It's good practice to typecast categorical variables as such.\n",
    "# 2a. Fist, check again what type they are\n",
    "for column in data_train.columns:\n",
    "    data_type = data_train[column].dtype\n",
    "    print(f\"{column}: {data_type}\")\n"
   ],
   "metadata": {
    "id": "Z26vNCxZSiCo"
   },
   "execution_count": null,
   "outputs": []
  },
  {
   "cell_type": "code",
   "metadata": {
    "id": "Fes3hFIx1P43"
   },
   "source": [
    "# 2b. Make your work easy: Automatically identify which features are numeric and which are categorical.\n",
    "# To do so, create two indices that hold the colum names of our data set that are numerical and categorical, respectively\n",
    "# Make sure that you do not include our response variable here, since this is just about features!\n",
    "numeric_features = data_train.select_dtypes(include=['int64', 'float64']).columns\n",
    "categorical_features = data_train.select_dtypes(include=['object', 'category']).drop(['Loan_Status'], axis=1).columns\n",
    "\n",
    "display(numeric_features)\n",
    "display(categorical_features)"
   ],
   "execution_count": null,
   "outputs": []
  },
  {
   "cell_type": "code",
   "metadata": {
    "id": "dsWEBZUA1P43"
   },
   "source": [
    "# 2c. What about Credit_History? Should that not be a categorical variable?\n",
    "numeric_features=numeric_features.drop('Credit_History')\n",
    "categorical_features=categorical_features.insert(6, 'Credit_History')\n",
    "\n",
    "display(numeric_features)\n",
    "display(categorical_features)"
   ],
   "execution_count": null,
   "outputs": []
  },
  {
   "cell_type": "code",
   "metadata": {
    "id": "EAnzMRGr1P43"
   },
   "source": [
    "# 5. Now typecast all variables that are categorical as type \"category\"\n",
    "for col in categorical_features.tolist():\n",
    "        data_train[col] = data_train[col].astype('category')"
   ],
   "execution_count": null,
   "outputs": []
  },
  {
   "cell_type": "code",
   "metadata": {
    "id": "hKvSOheQ1P43"
   },
   "source": [
    "# 6. Don't forget to also typecast our response variable as category\n",
    "data_train['Loan_Status'] = data_train['Loan_Status'].astype('category')"
   ],
   "execution_count": null,
   "outputs": []
  },
  {
   "cell_type": "code",
   "metadata": {
    "id": "M9TkE1Re1P43"
   },
   "source": [
    "# 7. Check if it worked\n",
    "print(data_train.dtypes)"
   ],
   "execution_count": null,
   "outputs": []
  },
  {
   "cell_type": "code",
   "metadata": {
    "id": "Eu1Q6t8n1P43"
   },
   "source": [
    "# 8. What about Dependents? Should that not be an int64? List the unique values of Dependents. What do you see?\n",
    "print(data_train.Dependents.unique())"
   ],
   "execution_count": null,
   "outputs": []
  },
  {
   "cell_type": "code",
   "source": [
    "# prompt: Using dataframe data_train: print the number of null values in each column\n",
    "\n",
    "# 9. What about Missing Data?\n",
    "data_train.isnull().sum()"
   ],
   "metadata": {
    "id": "ehlcPGRTTQ8H"
   },
   "execution_count": null,
   "outputs": []
  },
  {
   "cell_type": "code",
   "metadata": {
    "scrolled": true,
    "id": "paEsaxDn1P44"
   },
   "source": [
    "# 10. Let's impute the missing data with an imputer, for instance the SimpleImputer from sklearn\n",
    "from sklearn.impute import SimpleImputer\n",
    "\n",
    "# 10a. Now you need to impute missing numerical values. What imputation strategy will you choose?\n",
    "imputer = SimpleImputer(missing_values = np.nan, strategy = 'median')\n",
    "imputer = imputer.fit(data_train[numeric_features.tolist()])\n",
    "data_train[numeric_features.tolist()] = imputer.transform(data_train[numeric_features.tolist()])\n",
    "\n",
    "# 10b. Now you need to impute missing categorical values.\n",
    "imputercat = SimpleImputer(missing_values = np.nan, strategy = 'most_frequent')\n",
    "data_train[categorical_features] = imputercat.fit_transform(data_train[categorical_features.tolist()])\n",
    "data_train['Credit_History'] = data_train['Credit_History'].astype('category')   # imputer set type back to numeric, so we correct it again\n",
    "\n",
    "# 10c. Check if you resolved all missing values\n",
    "print(data_train.isnull().sum())"
   ],
   "execution_count": null,
   "outputs": []
  },
  {
   "cell_type": "markdown",
   "source": [
    "## 1.3 Prepare Data for Machine Learning"
   ],
   "metadata": {
    "id": "eOgOL5RoirU8"
   }
  },
  {
   "cell_type": "code",
   "source": [
    "# prompt: create a new df called X containing only our feature vars and one called Y that only includes Loan_Status\n",
    "\n",
    "# 1. Create a new dataframe X that includes only our feature variables\n",
    "X = data_train.loc[:, data_train.columns != 'Loan_Status']\n",
    "\n",
    "# 2. Create a new dataframe y that includes only Loan_Status\n",
    "y = data_train.Loan_Status\n"
   ],
   "metadata": {
    "id": "xWsrRY9eTa_D"
   },
   "execution_count": null,
   "outputs": []
  },
  {
   "cell_type": "code",
   "source": [
    "# prompt: one hot encode the categorical features\n",
    "\n",
    "# 3. Now you need to one hot encode the categorical features to make them machine readable.\n",
    "# Now you need to one hot encode the categorical features to make them machine readable.\n",
    "X = pd.get_dummies(X, drop_first = True)\n",
    "\n",
    "# Display the first five rows of X\n",
    "display(X.head())\n"
   ],
   "metadata": {
    "id": "E5A2gP1UUnev"
   },
   "execution_count": null,
   "outputs": []
  },
  {
   "cell_type": "code",
   "source": [
    "# prompt: re-code the response variable using a dictionary and replace\n",
    "\n",
    "# 4. And re-code the response variable using a dictionary and replace\n",
    "repmap={\"Y\": 1, \"N\": 0}\n",
    "y.replace(repmap, inplace=True)\n",
    "display(y.head())"
   ],
   "metadata": {
    "id": "V2ACymF4UvqO"
   },
   "execution_count": null,
   "outputs": []
  },
  {
   "cell_type": "markdown",
   "metadata": {
    "id": "hvKGDCVv1P44"
   },
   "source": [
    "## 1.4 Feature engineering\n",
    "\n",
    "Sometimes there is an opportunity to create new, meaningful features from existing ones. Similar to financial performance indicators such as P/E ratio or the ROI.\n",
    "\n",
    "1. In our dataset, there are features for applicant income and co-applicant income. Together, these should be **\"household income\"**.\n",
    "\n",
    "2. Another metric that we don't have in our data is equated monthly installment (**EMI**).\n",
    "    * EMI is a fixed payment amount made by a borrower to a lender at a specified date each calendar month.\n",
    "    * EMIs are used to pay off both interest and principal each month so that over a specified number of years, the loan is paid off in full.\n",
    "    * In common loans such as real estate mortgages, auto loans, and student loans, the borrower makes fixed periodic payments to the lender over the course of several years with the goal of retiring the loan.  \n",
    "    \n",
    "    * EMI reducing-balance method = (Principal + Total Interest) / Loan Amount Term = P x r x ((1 + r)^n)/((1 + r)^n - 1) where:\n",
    "        * P is the principal amount borrowed\n",
    "        * r = I/12 is the periodic monthly interest rate\n",
    "        * n is the total number of monthly payments      \n",
    "    * Assuming an average interest rate of 6% for 30 years (**why 30 years?**) - which is about right, and precisely wrong - we calculate EMI from our features as follows:\n",
    "\n",
    "  >    $r = 0.06/12$\n",
    "    \n",
    "  > $\\text{EMI}=\\frac{\\textit{LoanAmount}\\times 1000 \\times r \\times (1+r)^{\\textit{LoanAmountTerm}}}{(1+r)^{\\textit{LoanAmountTerm}}  - 1}$\n",
    "\n",
    "\n",
    "    \n",
    "**Calculate both new features, household income and EMI, below:**"
   ]
  },
  {
   "cell_type": "code",
   "metadata": {
    "id": "jNhC8ZmA1P45"
   },
   "source": [
    "# 1. Feature engineer Household_Income and add it to our features (X)\n",
    "X['Household_Income']=X.ApplicantIncome + X.CoapplicantIncome\n",
    "# Alternatively, take the log. Why?\n",
    "#X['Household_Income']=np.log(X.ApplicantIncome + X.CoapplicantIncome)\n",
    "\n",
    "# 2. Feature engineer EMI and add it to our features (X)\n",
    "r = 0.06/12\n",
    "X['EMI']=np.ceil(X['LoanAmount']*1000*r*((1+r)**X['Loan_Amount_Term'])/((1+r)**X['Loan_Amount_Term']-1)*100)/100\n",
    "\n",
    "# 3. Append our two new features to our index of numerical features\n",
    "numeric_features = numeric_features.append(pd.Index(['EMI','Household_Income_log']))\n",
    "\n",
    "# 4. Take a look\n",
    "X[['LoanAmount','Loan_Amount_Term','Household_Income', 'EMI']]"
   ],
   "execution_count": null,
   "outputs": []
  },
  {
   "cell_type": "markdown",
   "source": [
    "### 1.5 Let's train a basic model: K-Nearest Neighborhood (KNN)"
   ],
   "metadata": {
    "id": "ZeUFhwD5jF2v"
   }
  },
  {
   "cell_type": "code",
   "source": [
    "# 1. Import from the sklearn library a function to split our data into a training and a testing sample,\n",
    "#    the KNN Classifier\n",
    "#    and a scoring metric\n",
    "from sklearn.model_selection import train_test_split\n",
    "from sklearn.neighbors import KNeighborsClassifier\n",
    "from sklearn.metrics import accuracy_score\n",
    "\n",
    "# 2. Create a training and a test sample from the full data set\n",
    "X_train, X_test, y_train, y_test = train_test_split(X, y, test_size=0.3, random_state=42, stratify=y)\n",
    "\n",
    "# 3. Instantiate the KNeighborsClassifier\n",
    "knn = KNeighborsClassifier(n_neighbors=5)\n",
    "\n",
    "# 4. Fit the model\n",
    "knn.fit(X_train, y_train)\n",
    "\n",
    "# 5. Make the prediction for the test set\n",
    "y_pred_knn = knn.predict(X_test)\n",
    "\n",
    "# 6. Check Accuracy of prediction\n",
    "print(f\"Accuracy of Predicition (KNN): {round(accuracy_score(y_test, y_pred_knn)*100,2)}%\")"
   ],
   "metadata": {
    "id": "xThSL6tOjOUt"
   },
   "execution_count": null,
   "outputs": []
  },
  {
   "cell_type": "markdown",
   "source": [
    "#### ***Maybe a different model can do better? Let's try a Decision Tree!***"
   ],
   "metadata": {
    "id": "4rEUKesKkfgZ"
   }
  },
  {
   "cell_type": "markdown",
   "metadata": {
    "id": "D-k_OGBPmCfN"
   },
   "source": [
    "# 2 Decision Trees\n",
    "- One of the easiest and popular classification data structures to understand and interpret\n",
    "- Can apply to both classification and regression problems\n",
    "- Also referred to as **CART** (**C**lassification **a**nd **R**egression **T**ree)\n",
    "\n",
    "\n",
    "## 2.1 Basic Idea\n",
    "- Partition (split into groups) on the basis of the feature values\n",
    "- Apply recursively to get a sequence of if questions\n",
    "- Gives a decision tree (flowchart) that mimics human thinking\n",
    "- Visualization can help interpretation of results\n",
    "\n",
    "\n",
    "<img align=\"right\" src=\"https://www.mermaidchart.com/raw/5a772e4d-55a0-46ef-b7ab-55eeb74203ab?theme=light&version=v0.1&format=svg\" width=\"50%\" alt=\"Decision tree\">\n",
    "\n",
    "## 2.2 Building Blocks of a Decision Tree\n",
    "- Essentially a Flowchart-like structure consisting of a hierarchy of nodes\n",
    "- Nodes are questions or predictions about a particular feature\n",
    "- Multiple elements make up a decision tree:\n",
    "    - **Root Node** is the starting point\n",
    "    - **Internal Node** represents a feature\n",
    "    - **Leaf Node** represents an outcome prediction\n",
    "    - **Branch** represents a decision rule\n",
    "    - branches connect **Parent Nodes** with (their) **Child Nodes**\n"
   ]
  },
  {
   "cell_type": "markdown",
   "metadata": {
    "id": "6K-KcuXWmCfO"
   },
   "source": [
    "## 2.3 Example: Classification Tree\n",
    "- Sequence of if-else questions about individual features\n",
    "- Objective: infer class labels\n",
    "- Able to capture non-linear relationships between features and labels\n",
    "- Does not require feature scaling (e.g., Standardization, Min-Max)\n",
    "\n",
    "### 2.3.1 Algorithm\n",
    "1. Start at the root node as parent node\n",
    "2. Split the parent node at the feature ***$f$*** to minimize the sum of the child node impurities (maximize information gain)\n",
    "3. Assign training samples to new child nodes\n",
    "4. Stop if leaf nodes are pure or early stopping criteria is satisfied, else repeat steps 1 and 2 for each new child node\n",
    "\n",
    "![Node Impurity](https://mapxp.app/BUSI488/Impurity.jpg)\n",
    "\n",
    "\n",
    "### 2.3.2 Stopping Rules\n",
    "   - leaf node is pure\n",
    "   - a maximal node depth is reached\n",
    "   - splitting a note does not lead to an information gain\n",
    "   - early stopping criterion reached (e.g., minimum impurity decrease is reached)\n",
    "\n",
    "### 2.3.3 Criteria\n",
    "**Splitting criterion:** Information Gain (IG), sum of node impurities  \n",
    "**Objective function:** Maximize IG at each split (equivalent to minimizing the impurity criterion)\n",
    "\n",
    "\n",
    "### 2.3.4 Attribute Selection Measures\n",
    "\n",
    "- An attribute selection measure (ASM) is a heuristic for selecting the splitting criterion that partition data into the best possible manner.  \n",
    "\n",
    "- ASM is also known as splitting rules because it helps us to determine breakpoints for records on a given node.\n",
    "- ASM provides a rank to each feature in regard to how well it can explain the outcome (response).\n",
    "- The best feature is selected for the split.\n",
    "- In the case of a continuous-valued feature, split points must be defined.\n",
    "- We will use the Information Gain to split our data\n",
    "\n",
    "![ContinuousSplit](https://mapxp.app/BUSI488/SplitPoint.jpg)"
   ]
  },
  {
   "cell_type": "markdown",
   "metadata": {
    "id": "_Zjhyk_WmCfP"
   },
   "source": [
    "# 3 Strengths and Limitations of CARTs\n",
    "*Classification and Regression Trees (CARTs)*\n",
    "\n",
    "## Strengths\n",
    "- Clear Box\n",
    "- Simple to understand\n",
    "- Simple to interpret\n",
    "- Easy to use\n",
    "- Flexibility: ability to describe non-linear dependencies\n",
    "- Preprocessing: no need to standardize or normalize features\n",
    "\n",
    "## Limitations\n",
    "- Classification: can only produce orthogonal decision boundaries\n",
    "- Sensitive to small variations in the training set\n",
    "- High variance: unconstrained CARTs may ovefit the training set\n",
    "- Solution: Wisdom of the Crowds!\n",
    "\n",
    "## Consequence:\n",
    "- As far as accuracies of prediction go, Decision Trees are quite inaccurate.\n",
    "- Even one mis-step in the choice of the next node, can lead you to a completely different end.\n",
    "- Choosing the right branch instead of the left could lead you to the furthest end of the tree.\n",
    "- You would be off by a huge margin!\n",
    "\n"
   ]
  },
  {
   "cell_type": "markdown",
   "metadata": {
    "id": "fBu2_ohEmCfP"
   },
   "source": [
    "# 4 Wisdom of the Crowds in Machine Learning\n",
    "\n",
    "### *When you are uncertain about a decision:*\n",
    "1. You might ask several people for their assessment ...\n",
    "2. ... and then make a more informed decision.\n",
    "\n",
    "\n"
   ]
  },
  {
   "cell_type": "markdown",
   "metadata": {
    "id": "y_clRfnmmCfQ"
   },
   "source": [
    "## It's the end of 2022: Invest in Nvidia?\n",
    "\n",
    "![image.png](data:image/png;base64,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)\n",
    "\n",
    "\n",
    "- You have access to a dozen great analysts who have no prior knowledge about generative AI and the hardware it requires.\n",
    "- Each analyst has a low bias because they don’t have prior assumptions.\n",
    "- Each analyst can learn about AI and Nvidia from a dataset of news reports.\n",
    "- Each analyst has a high variance in their predicition when there is variation in the reports they receive.  \n",
    "\n",
    "***Having access to news reports seems ideal for the task!***\n",
    "\n",
    "### Problem: The reports are likely to contain noise in addition to real signals.\n",
    "\n",
    "**Because your analysts will base their predictions entirely on the data (they have complete flexibility how), they can be swayed by irrelevant information.**\n",
    "\n",
    "\n",
    "### Consequence:\n",
    "* The analysts might each come up with very differing predictions from the same set of reports.\n",
    "* Each analyst might come up with dramatically different predicition when they are given a different set of reports.\n",
    "\n",
    "\n",
    "### ***The solution is to not rely on any one individual, but pool the votes of multiple analysts.***\n",
    "\n"
   ]
  },
  {
   "cell_type": "markdown",
   "metadata": {
    "id": "9P-fR9M5mCfQ"
   },
   "source": [
    "# 5 Ensemble Learning with Bootstrap Aggregation (BAGGING)\n",
    "\n",
    "- Uses a technique known as ***bootstrapping***.\n",
    "- Reduces variance of individual models in an **ENSEMBLE** of the same algorithm\n",
    "- One algorithm with different subsets of the training set.\n",
    "\n",
    "### ***Basic Idea:*** Create multiple Decision Trees based on bootstrapped samples and go with the majority vote of the trees!\n",
    "\n",
    "![BAGGING](https://mapxp.app/BUSI488/BAGGINGCART2.gif)"
   ]
  },
  {
   "cell_type": "markdown",
   "metadata": {
    "id": "pphHqObEmCfR"
   },
   "source": [
    "# 6 Empirical Application of BAGGING: ***Customer Eligibility for a Loan***\n",
    "\n",
    "[*Based on an Analytics Vidhya practice competition*](https://datahack.analyticsvidhya.com/contest/practice-problem-loan-prediction-iii/)\n",
    "\n",
    "A Fintech wants to automate the loan eligibility process (in real time) based on the details that applicants provide in their online application. These details are:\n",
    "\n",
    "- Gender\n",
    "- Marital Status\n",
    "- Education\n",
    "- Number of Dependents\n",
    "- Income\n",
    "- Loan Amount\n",
    "- Credit History and others.\n",
    "\n",
    "To automate this process, the Fintech needs to assign applicants to either being eligible for the requested loan (amount), or not. You are provided with a training dataset in which the loan eligibility is marked.\n",
    "The dataset contains the following variables:\n",
    "\n",
    "| Variable          \t| Description                     \t|\n",
    "|-------------------\t|---------------------------------\t|\n",
    "| Loan_ID           \t| Unique Loan ID                  \t|\n",
    "| Gender            \t| Male/ Female                    \t|\n",
    "| Married           \t| Applicant married (Y/N)         \t|\n",
    "| Dependents        \t| Number of dependents            \t|\n",
    "| Education         \t| Graduate/ Under Graduate        \t|\n",
    "| Self_Employed     \t| Self employed (Y/N)             \t|\n",
    "| ApplicantIncome   \t| Applicant income                \t|\n",
    "| CoapplicantIncome \t| Coapplicant income              \t|\n",
    "| LoanAmount        \t| Loan amount in thousands        \t|\n",
    "| Loan_Amount_Term  \t| Term of loan in months          \t|\n",
    "| Credit_History    \t| credit history meets guidelines \t|\n",
    "| Property_Area     \t| Urban/ Semi Urban/ Rural        \t|\n",
    "| Loan_Status       \t| Loan approved (Y/N)             \t|\n",
    "\n",
    "You can download the dataset ***loan_train.csv*** from CANVAS along with the notebook of this class."
   ]
  },
  {
   "cell_type": "markdown",
   "metadata": {
    "id": "kPRRFg_zZT1L"
   },
   "source": [
    "## 6.1 Load and Pre-Process the Data"
   ]
  },
  {
   "cell_type": "code",
   "metadata": {
    "id": "m1ObTrR3Tymw"
   },
   "source": [
    "# Connect out notebook with out Google Drive and navigate to the directory in which we saved the data file(s)\n",
    "\n",
    "from google.colab import drive\n",
    "drive.mount('/content/drive')\n",
    "%cd /content/drive/MyDrive/488/Class18"
   ],
   "execution_count": null,
   "outputs": []
  },
  {
   "cell_type": "code",
   "source": [
    "!ls # special shell command to view the files in the home directory of the notebook environment (! command has no lasting effect)"
   ],
   "metadata": {
    "id": "BIHe9nLB0Wap"
   },
   "execution_count": null,
   "outputs": []
  },
  {
   "cell_type": "markdown",
   "source": [
    "**A note on shell commands in python notebooks:** The difference between **!** and **%**\n",
    "\n",
    "- **!** calls out to a shell (in a new process),\n",
    "- **%** affects the process associated with the notebook (or the notebook itself)\n",
    "- many **%** commands have no shell counterpart.\n",
    "\n",
    "***!cd foo***, by itself, has no lasting effect, since the process with the changed directory immediately terminates.\n",
    "\n",
    "***%cd foo*** changes the current directory of the notebook process, which is a lasting effect."
   ],
   "metadata": {
    "id": "2iXdgVMY-4XB"
   }
  },
  {
   "cell_type": "code",
   "metadata": {
    "id": "47EVcNyRmCfR"
   },
   "source": [
    "#0 import some libraries that you will need for this step\n",
    "import numpy as np\n",
    "import pandas as pd\n",
    "import seaborn as sns\n",
    "from matplotlib import pyplot as plt\n",
    "%matplotlib inline\n",
    "\n",
    "#1 import the data file\n",
    "data_train = pd.read_csv(\"loan_train.csv\") # parse to a Pandas DataFrame using pd.read_csv()\n",
    "\n",
    "#2a Output the first 10 rows --> What do you observe?\n",
    "data_train.head(10)"
   ],
   "execution_count": null,
   "outputs": []
  },
  {
   "cell_type": "code",
   "metadata": {
    "id": "wNapYijgnaNP"
   },
   "source": [
    "#2b Let's get some descriptives\n",
    "data_train.describe()"
   ],
   "execution_count": null,
   "outputs": []
  },
  {
   "cell_type": "code",
   "metadata": {
    "id": "RLZsq0ahPKlZ"
   },
   "source": [
    "#2c How many loan request were approved vs declined?\n",
    "labels = 'Approved', 'Declined'\n",
    "sizes = [data_train.Loan_Status[data_train['Loan_Status']=='Y'].count(), data_train.Loan_Status[data_train['Loan_Status']=='N'].count()]\n",
    "explode = (0, 0.1)\n",
    "\n",
    "fig1, ax1 = plt.subplots(figsize=(8, 6))\n",
    "ax1.pie(sizes, explode=explode, labels=labels,  autopct='%1.2f%%', textprops={'fontsize': 20},\n",
    "        shadow=True, startangle=90)\n",
    "ax1.axis('equal')\n",
    "plt.title(\"Proportion of Approved and Declined Loan Applications\", size = 20)\n",
    "plt.rcParams['font.size'] = 18  # makes label size bigger\n",
    "\n",
    "plt.show()"
   ],
   "execution_count": null,
   "outputs": []
  },
  {
   "cell_type": "code",
   "metadata": {
    "id": "T67gN5yJPqmi"
   },
   "source": [
    "#2d We could also look at counts for individual features\n",
    "print(data_train['Gender'].value_counts())"
   ],
   "execution_count": null,
   "outputs": []
  },
  {
   "cell_type": "code",
   "metadata": {
    "id": "AbAqNxJ1Pvqj"
   },
   "source": [
    "#2e Let's create barcharts that show frequencies of approve vs. decline by categorical variable\n",
    "fig, axarr = plt.subplots(3, 2, figsize=(16, 14))\n",
    "sns.countplot(x='Married', hue = 'Loan_Status',data = data_train, ax=axarr[0][0])\n",
    "sns.countplot(x='Gender', hue = 'Loan_Status',data = data_train, ax=axarr[0][1])\n",
    "sns.countplot(x='Dependents', hue = 'Loan_Status',data = data_train, ax=axarr[1][0])\n",
    "sns.countplot(x='Self_Employed', hue = 'Loan_Status',data = data_train, ax=axarr[1][1])\n",
    "sns.countplot(x='Credit_History', hue = 'Loan_Status',data = data_train, ax=axarr[2][0])\n",
    "sns.countplot(x='Property_Area', hue = 'Loan_Status',data = data_train, ax=axarr[2][1])"
   ],
   "execution_count": null,
   "outputs": []
  },
  {
   "cell_type": "code",
   "metadata": {
    "id": "cqkOmdiAmCfT"
   },
   "source": [
    "#3 The first column (Loan_ID) is not informative to our task. So let's drop it!\n",
    "data_train=data_train.drop(['Loan_ID'],axis=1)\n",
    "data_train.head()"
   ],
   "execution_count": null,
   "outputs": []
  },
  {
   "cell_type": "code",
   "metadata": {
    "id": "49X8VlUA-kHJ"
   },
   "source": [
    "#4 It's good practice to typecast categorical variables as such.\n",
    "#4a Fist, check again what type they are\n",
    "print(data_train.dtypes)"
   ],
   "execution_count": null,
   "outputs": []
  },
  {
   "cell_type": "code",
   "metadata": {
    "id": "I4Uke9p9-kOf"
   },
   "source": [
    "#4b Make your work easy: Automatically identify which features are numeric and which are categorical.\n",
    "# To do so, create two indices that hold the colum names of our data set that are numerical and categorical, respectively\n",
    "# Make sure that you do not include our response variable here, since this is just about features!\n",
    "numeric_features = data_train.select_dtypes(include=['int64', 'float64']).columns\n",
    "categorical_features = data_train.select_dtypes(include=['object', 'category']).drop(['Loan_Status'], axis=1).columns\n",
    "\n",
    "display(numeric_features)\n",
    "display(categorical_features)"
   ],
   "execution_count": null,
   "outputs": []
  },
  {
   "cell_type": "code",
   "metadata": {
    "id": "qLCZwcyc-kWB"
   },
   "source": [
    "#4c What about Credit_History? Should that not be a categorical variable?\n",
    "numeric_features=numeric_features.drop('Credit_History')\n",
    "categorical_features=categorical_features.insert(6, 'Credit_History')\n",
    "\n",
    "display(numeric_features)\n",
    "display(categorical_features)"
   ],
   "execution_count": null,
   "outputs": []
  },
  {
   "cell_type": "code",
   "metadata": {
    "id": "1YhL4YME-peY"
   },
   "source": [
    "#4d Now typecast all variables that are categorical as type \"category\"\n",
    "for col in categorical_features.tolist():\n",
    "        data_train[col] = data_train[col].astype('category')"
   ],
   "execution_count": null,
   "outputs": []
  },
  {
   "cell_type": "code",
   "metadata": {
    "id": "y5IMZ0sp-rUa"
   },
   "source": [
    "#4e Don't forget to also typecast our response variable as category\n",
    "data_train['Loan_Status'] = data_train['Loan_Status'].astype('category')"
   ],
   "execution_count": null,
   "outputs": []
  },
  {
   "cell_type": "code",
   "metadata": {
    "id": "TDfzZm2C-tD4"
   },
   "source": [
    "#4f Check if it worked\n",
    "print(data_train.dtypes)"
   ],
   "execution_count": null,
   "outputs": []
  },
  {
   "cell_type": "code",
   "metadata": {
    "id": "XBsncZQM-trY"
   },
   "source": [
    "#4g What about Dependents? Should that not be an int64? List the unique values of Dependents. What do you see?\n",
    "print(data_train.Dependents.unique())"
   ],
   "execution_count": null,
   "outputs": []
  },
  {
   "cell_type": "code",
   "metadata": {
    "id": "y-31tCKfmCfV"
   },
   "source": [
    "#5 What about Missing Data?\n",
    "print(data_train.isnull().sum())"
   ],
   "execution_count": null,
   "outputs": []
  },
  {
   "cell_type": "code",
   "metadata": {
    "scrolled": true,
    "id": "Hiwf1CknmCfV"
   },
   "source": [
    "#6 Let's impute the missing data with an imputer, for instance the SimpleImputer from sklearn\n",
    "from sklearn.impute import SimpleImputer\n",
    "\n",
    "#6a Now you need to impute missing numerical values. What imputation strategy will you choose?\n",
    "imputer = SimpleImputer(missing_values = np.nan, strategy = 'median')\n",
    "imputer = imputer.fit(data_train[numeric_features.tolist()])\n",
    "data_train[numeric_features.tolist()] = imputer.transform(data_train[numeric_features.tolist()])\n",
    "\n",
    "#6b Now you need to impute missing categorical values.\n",
    "imputercat = SimpleImputer(missing_values = np.nan, strategy = 'most_frequent')\n",
    "data_train[categorical_features] = imputercat.fit_transform(data_train[categorical_features.tolist()])\n",
    "data_train['Credit_History'] = data_train['Credit_History'].astype('category')   # imputer set type back to numeric, so we correct it again\n",
    "\n",
    "#6c Check if you resolved all missing values\n",
    "print(data_train.isnull().sum())"
   ],
   "execution_count": null,
   "outputs": []
  },
  {
   "cell_type": "code",
   "metadata": {
    "id": "LUZV_76jmCfV"
   },
   "source": [
    "#7 Create a new dataframe X that includes only our feature variables\n",
    "X = data_train.loc[:, data_train.columns != 'Loan_Status']\n",
    "\n",
    "#8 Create a new dataframe y that includes only our\n",
    "y = data_train.Loan_Status"
   ],
   "execution_count": null,
   "outputs": []
  },
  {
   "cell_type": "code",
   "metadata": {
    "id": "FmBHv_9pmCfW"
   },
   "source": [
    "#9 Now you need to one hot encode the categorical features to make them machine readable.\n",
    "X = pd.get_dummies(X)\n",
    "display(X.head())"
   ],
   "execution_count": null,
   "outputs": []
  },
  {
   "cell_type": "code",
   "source": [
    "#10 And re-code the response variable using a dictionary and replace\n",
    "repmap={\"Y\": 1, \"N\": 0}\n",
    "y.replace(repmap, inplace=True)\n",
    "display(y.head())"
   ],
   "metadata": {
    "id": "bOk8Lrvz1Eft"
   },
   "execution_count": null,
   "outputs": []
  },
  {
   "cell_type": "markdown",
   "metadata": {
    "id": "MMtWfp9dbY_D"
   },
   "source": [
    "## 6.2 Feature engineering\n",
    "\n",
    "Sometimes there is an opportunity to create new, meaningful features from existing ones. Similar to financial performance indicators such as P/E ratio or the ROI.\n",
    "\n",
    "1. In our dataset, there are features for applicant income and co-applicant income. Together, these should be **\"household income\"**.\n",
    "\n",
    "2. Another metric that we don't have in our data is equated monthly installment (**EMI**).\n",
    "    * EMI is a fixed payment amount made by a borrower to a lender at a specified date each calendar month.\n",
    "    * EMIs are used to pay off both interest and principal each month so that over a specified number of years, the loan is paid off in full.\n",
    "    * In common loans such as real estate mortgages, auto loans, and student loans, the borrower makes fixed periodic payments to the lender over the course of several years with the goal of retiring the loan.  \n",
    "    \n",
    "    * EMI reducing-balance method = (Principal + Total Interest) / Loan Amount Term = P x r x ((1 + r)^n)/((1 + r)^n - 1) where:\n",
    "        * P is the principal amount borrowed\n",
    "        * r = I/12 is the periodic monthly interest rate\n",
    "        * n is the total number of monthly payments      \n",
    "    * Assuming an average interest rate of 6% for 30 years (**why 30 years?**) - which is about right, and precisely wrong - we calculate EMI from our features as follows:\n",
    "\n",
    "  >    $r = 0.06/12$\n",
    "    \n",
    "  > $\\text{EMI}=\\frac{\\textit{LoanAmount}\\times 1000 \\times r \\times (1+r)^{\\textit{LoanAmountTerm}}}{(1+r)^{\\textit{LoanAmountTerm}}  - 1}$\n",
    "\n",
    "\n",
    "    \n",
    "**Calculate both new features, household income and EMI, below:**"
   ]
  },
  {
   "cell_type": "code",
   "metadata": {
    "id": "lnP3taRtQU0j"
   },
   "source": [
    "# 1 Feature engineer Household_Income_log (why log?) and add it to our features (X)\n",
    "X['Household_Income_log']=np.log(X.ApplicantIncome + X.CoapplicantIncome)\n",
    "\n",
    "# 2 Feature engineer EMI and add it to our features (X)\n",
    "r = 0.06/12\n",
    "X['EMI']=np.ceil(X['LoanAmount']*1000*r*((1+r)**X['Loan_Amount_Term'])/((1+r)**X['Loan_Amount_Term']-1)*100)/100\n",
    "\n",
    "# 3 Append our two new features to our index of numerical features\n",
    "numeric_features = numeric_features.append(pd.Index(['EMI','Household_Income_log']))\n",
    "\n",
    "# 4 Take a look\n",
    "X[['LoanAmount','Loan_Amount_Term','Household_Income_log', 'EMI']]"
   ],
   "execution_count": null,
   "outputs": []
  },
  {
   "cell_type": "markdown",
   "metadata": {
    "id": "9UPAqcWWmCfW"
   },
   "source": [
    "## 6.3 Baseline Predicition with a Classification Tree\n",
    "\n",
    "### Let's take a look at how well we can predict customer eligibility using a Classification Tree"
   ]
  },
  {
   "cell_type": "code",
   "metadata": {
    "id": "WPdAjxoymCfX"
   },
   "source": [
    "# Import DecisionTreeClassifier\n",
    "from sklearn.tree import DecisionTreeClassifier\n",
    "\n",
    "# Import train_test_split\n",
    "from sklearn.model_selection import train_test_split\n",
    "\n",
    "# Import accuracy_score\n",
    "from sklearn.metrics import accuracy_score\n",
    "\n",
    "# Split dataset into 70% train, 30% test\n",
    "X_train, X_test, y_train, y_test= train_test_split(X, y, test_size=0.3, stratify=y, random_state=42)\n",
    "\n",
    "# Instantiate dt, set 'criterion' to 'gini'\n",
    "dt = DecisionTreeClassifier(criterion='gini', random_state=1)\n",
    "\n",
    "# Fit dt to the training set\n",
    "dt.fit(X_train,y_train)\n",
    "\n",
    "# Predict test-set labels\n",
    "y_pred_dt = dt.predict(X_test)"
   ],
   "execution_count": null,
   "outputs": []
  },
  {
   "cell_type": "markdown",
   "metadata": {
    "id": "VMA_3wsCmCfX"
   },
   "source": [
    "### So how well does our Classification Tree do?"
   ]
  },
  {
   "cell_type": "code",
   "metadata": {
    "id": "GV76CAZ2mCfX"
   },
   "source": [
    "# Output the accuracy of our prediction\n",
    "from sklearn.metrics import accuracy_score\n",
    "print(f\"Accuracy of Decision Tree Classifier is {round(accuracy_score(y_test, y_pred_dt)*100,2)}%\")"
   ],
   "execution_count": null,
   "outputs": []
  },
  {
   "cell_type": "markdown",
   "metadata": {
    "id": "ivEp2CzJmCfY"
   },
   "source": [
    "## 6.4 Improved Prediction with BAGGING"
   ]
  },
  {
   "cell_type": "code",
   "metadata": {
    "id": "-ub835KemCfY"
   },
   "source": [
    "# Import models and utility functions\n",
    "from sklearn.ensemble import BaggingClassifier\n",
    "from sklearn.tree import DecisionTreeClassifier\n",
    "from sklearn.metrics import accuracy_score\n",
    "from sklearn.model_selection import train_test_split\n",
    "\n",
    "# Split data into 70% train and 30% test\n",
    "X_train, X_test, y_train, y_test = train_test_split(X, y, test_size=0.3, stratify=y, random_state=42)\n",
    "\n",
    "# Instantiate a classification-tree 'dt'\n",
    "dt = DecisionTreeClassifier(criterion='gini')\n",
    "\n",
    "# Instantiate a BaggingClassifier 'bc'\n",
    "bc = BaggingClassifier(estimator=dt, n_estimators=25, n_jobs=-1,random_state=42)\n",
    "\n",
    "# Fit 'bc' to the training set\n",
    "bc.fit(X_train, y_train)\n",
    "\n",
    "# Predict test set labels\n",
    "y_pred_bag = bc.predict(X_test)\n",
    "\n",
    "# Output the accuracy of our prediction\n",
    "print(f\"Accuracy of Bagging Classifier is {round(accuracy_score(y_test, y_pred_bag)*100,2)}%\")"
   ],
   "execution_count": null,
   "outputs": []
  },
  {
   "cell_type": "markdown",
   "metadata": {
    "id": "64DMJm22mCfa"
   },
   "source": [
    "# 7 Ensemble Learning with Random Forests: Pooling Experts\n",
    "![Forest](https://mapxp.app/BUSI488/trees.jpg)"
   ]
  },
  {
   "cell_type": "markdown",
   "metadata": {
    "id": "dHLKQauomCfa"
   },
   "source": [
    "### Building a Random Forest\n",
    "\n",
    "There are 4 steps involved in building a random forest:\n",
    "\n",
    "    1. Create a ‘bootstrapped dataset’ from the original data.\n",
    "    2. Create a decision tree using these bootstrapped data: sample features\n",
    "    3. Rinse and Repeat 1 and 2 to create more decision trees.\n",
    "    4. Take majority vote (Classification) or average (Regression)\n",
    "\n"
   ]
  },
  {
   "cell_type": "markdown",
   "metadata": {
    "id": "vFYdwCIWmCfb"
   },
   "source": [
    "### Feature Randomness  \n",
    "\n",
    "In a normal decision tree, when it is time to split a node, we consider every possible feature and pick the one that produces the most separation between the observations in the left node vs. those in the right node.   \n",
    "\n",
    "In contrast, each tree in a random forest can pick only from a random subset of features.  \n",
    "\n",
    "**This forces even more variation amongst the trees in the model and ultimately results in lower correlation across trees and more diversification.**"
   ]
  },
  {
   "cell_type": "markdown",
   "metadata": {
    "id": "4ujiC1q4mCfb"
   },
   "source": [
    "A large number of relatively uncorrelated models (trees) operating as a committee will outperform any of the individual constituent models.\n"
   ]
  },
  {
   "cell_type": "markdown",
   "metadata": {
    "id": "tvp5oZH-mCfb"
   },
   "source": [
    "![BAGGING](https://mapxp.app/BUSI488/RandomForest2.gif)"
   ]
  },
  {
   "cell_type": "markdown",
   "metadata": {
    "id": "-9EDf8IamCfb"
   },
   "source": [
    "## 7.1 Improved Prediction with a Random Forest"
   ]
  },
  {
   "cell_type": "code",
   "metadata": {
    "id": "KBQ49VqDmCfb"
   },
   "source": [
    "# Basic imports\n",
    "from sklearn.ensemble import RandomForestClassifier\n",
    "from sklearn.model_selection import train_test_split\n",
    "\n",
    "# Split data into 70% train and 30% test\n",
    "X_train, X_test, y_train, y_test = train_test_split(X, y,\n",
    "test_size=0.3,\n",
    "stratify=y,\n",
    "random_state=42)\n",
    "\n",
    "# Instantiate a random forests classifier\n",
    "rf = RandomForestClassifier(n_estimators=25, bootstrap = True, min_samples_leaf = 5, criterion='gini', random_state=42)\n",
    "\n",
    "# Fit 'rf' to the training set\n",
    "rf.fit(X_train, y_train)\n",
    "\n",
    "# Predict the test set labels 'y_pred'\n",
    "y_pred_rf = rf.predict(X_test)\n",
    "\n",
    "# Output the accuracy of our prediction\n",
    "print(f\"Accuracy of Random Forest Classifier is {round(accuracy_score(y_test, y_pred_rf)*100,2)}%\")"
   ],
   "execution_count": null,
   "outputs": []
  },
  {
   "cell_type": "markdown",
   "metadata": {
    "id": "s9o5yBdkmCfd"
   },
   "source": [
    "## 7.2 Visualizing Trees of a Random Forest"
   ]
  },
  {
   "cell_type": "code",
   "metadata": {
    "id": "sKLYgijHwgsw"
   },
   "source": [
    "# Static Image\n",
    "from sklearn.tree import export_graphviz\n",
    "from IPython.display import SVG\n",
    "from sklearn import tree\n",
    "from graphviz import Source\n",
    "from IPython.display import display\n",
    "\n",
    "# Let's visualize it!\n",
    "\n",
    "# class labels\n",
    "features = X_train.columns.to_list()\n",
    "\n",
    "# generate the graph of the last tree (i.e., estimator) in the random forest ensemble: rf.estimators_[-1]\n",
    "graph = Source(tree.export_graphviz(rf.estimators_[-1], out_file=None\n",
    "              ,feature_names=features, class_names=['Decline','Approve']\n",
    "              ,rounded=True\n",
    "              ,filled = True))\n",
    "\n",
    "#display the graph\n",
    "display(SVG(graph.pipe(format='svg')))"
   ],
   "execution_count": null,
   "outputs": []
  },
  {
   "cell_type": "markdown",
   "metadata": {
    "id": "imPd0snNmCff"
   },
   "source": [
    "#8 Feature Importance\n",
    "\n",
    "### Advantage of Tree-based methods:\n",
    "- Enable measuring the importance of each feature in prediction.\n",
    "- WARNING: Does not reveal causality! This is not a model for statistical inference.\n",
    "\n",
    "### In sklearn:\n",
    "- How much the tree nodes use a particular feature (weighted average) to reduce impurity\n",
    "  accessed using the attribute feature_importance_"
   ]
  },
  {
   "cell_type": "code",
   "metadata": {
    "id": "DXzZScYgmCff"
   },
   "source": [
    "import pandas as pd\n",
    "import matplotlib.pyplot as plt\n",
    "\n",
    "# Create a pd.Series of features importances\n",
    "importances_rf = pd.Series(rf.feature_importances_, index = X.columns)\n",
    "\n",
    "# Sort importances_rf\n",
    "sorted_importances_rf = importances_rf.sort_values()\n",
    "\n",
    "# Make a horizontal bar plot\n",
    "plt.figure(figsize=(15,10))\n",
    "sorted_importances_rf.plot(kind='barh', color='skyblue');\n",
    "plt.show()"
   ],
   "execution_count": null,
   "outputs": []
  },
  {
   "cell_type": "markdown",
   "metadata": {
    "id": "AwosIxZF61Dr"
   },
   "source": [
    "------\n",
    "\n",
    "\n",
    "## ***Reflection Point:*** What business implication arises from our analysis and modelling?\n",
    "\n",
    "------"
   ]
  },
  {
   "cell_type": "markdown",
   "metadata": {
    "id": "8q06JdVvvkve"
   },
   "source": "# 9 Experts vs. Fools in Ensemble Learning\n"
  },
  {
   "cell_type": "markdown",
   "metadata": {
    "id": "YXVPnfwN2LYV"
   },
   "source": [
    "## 9.1 Boosting\n",
    "\n",
    "**Boosting:** Ensemble method combining several weak learners to form a strong learner.  \n",
    "\n",
    "**Weak learner:** Model doing slightly better than random guessing.  \n",
    "\n",
    "**Example of weak learner:** Decision stump (CART whose maximum depth is 1).  \n",
    "\n",
    "\n",
    "**Basic Idea:**\n",
    "- Train an ensemble of predictors sequentially.\n",
    "- Each predictor tries to correct its predecessor.\n",
    "- Most popular boosting methods:\n",
    "    * AdaBoost\n",
    "    * Gradient Boosting"
   ]
  },
  {
   "cell_type": "markdown",
   "metadata": {
    "id": "_WO2K_e_2UWH"
   },
   "source": [
    "## 9.2 AdaBoost\n",
    "\n",
    "- Stands for **Adaptive Boosting**.\n",
    "- Each predictor pays more attention to the instances wrongly predicted by its predecessor.\n",
    "- Achieved by changing the weights of training instances.\n",
    "- Each predictor is assigned a coefficient $\\alpha$.\n",
    "- $\\alpha$ (alpha) depends on the predictor's training error.\n",
    "- $\\eta$ (eta) is the learning rate (shrinkage of $\\alpha$)\n",
    "    * small $\\eta$ means the models trains slower (and sometimes better), but you need more estimators\n",
    "\n",
    "### AdaBoost used both for Classification and Regression\n",
    "- Classification:\n",
    "    * Weighted majority voting.\n",
    "    * In sklearn: AdaBoostClassifier\n",
    "- Regression:\n",
    "    * Weighted average.\n",
    "    * In sklearn: AdaBoostRegressor\n",
    "    \n",
    "    \n",
    "*Source: DataCamp*"
   ]
  },
  {
   "cell_type": "markdown",
   "metadata": {
    "id": "rZEMlrZZtSX2"
   },
   "source": [
    "## 9.3 Random Forest vs. AdaBoost (aka Experts vs. Fools)\n",
    "\n",
    "#### Basic Idea of a Random Forest\n",
    "- Each tree is a full-size tree\n",
    "- Each tree can look different in terms of depth and splits\n",
    "- Each tree can use multiple features to make a decision\n",
    "- Each tree has equal weight in voting\n",
    "- Each tree is made independently of the others\n",
    "- Most trees have different samples to operate on (because of bootstrapping)\n",
    "\n",
    "\n",
    "#### Basic Idea of AdaBoost for Decision Trees\n",
    "- Usually uses stumps (root node with two leaves)\n",
    "- Forest of stumps\n",
    "- Stumps can only use one variable to make a decision (split)\n",
    "- Stumps are not good at making accurate classifications = weak learners\n",
    "- Some stumps have a greater say (i.e., significance) in the voting at the end than others (weighted by their accuracy)\n",
    "- Stump order matters! Stumps are created in sequence, whereby the next stump implicitly takes the errors made by its predecessor into account for its own classification.\n"
   ]
  },
  {
   "cell_type": "markdown",
   "metadata": {
    "id": "rr8A6lnD2veW"
   },
   "source": [
    "## 9.4 Steps in the AdaBoost Algorithm\n",
    "1. Initialize a weight ($w_r$) for each record that indicates how important it is for the classification.  \n",
    "   At the start, all records get the same weight ($1/R$), which makes them equally important.    \n",
    "    \n",
    "   \n",
    "2. Make the best split: Determining which feature to split on based on the information gain (see recap of decision trees for details)  \n",
    "\n",
    "\n",
    "3. Determine the total error of the stump: Sum of the weights ($w_r$) of the incorrectly classified records.  \n",
    "\n",
    "\n",
    "4. Use the error of the classifier (i.e., the share of misclassified records) to determine how much say (i.e., vote) the particular stump has in the final classification, which is captured by $\\alpha$ (also referred to as significance).  \n",
    "\n",
    "\n",
    "5. Update (i.e., increase or decrease) the weights ($w_r$) for the records based on $\\alpha$   \n",
    "   and normalize all weights so that they sum to 1 (i.e., divide ***all*** records' weights by their sum).  \n",
    "   \n",
    "   \n",
    "6. Create a new dataset of records:\n",
    "    - of the same shape as the original dataset (i.e., the same number of rows and columns)\n",
    "    - based on the normalized sample weights\n",
    "    - by drawing $R$ records (with replacement)\n",
    "    - where for each of $R$ draws you generate a random number between 0 and 1\n",
    "    - and add the record to the new dataset whose cumulative weight (i.e., the sum of weights of all records \"above\" it in the table)\n",
    "    - the randomly drawn number falls into.\n",
    "\n",
    "    \n",
    "7. Repeat steps 2-6."
   ]
  },
  {
   "cell_type": "markdown",
   "metadata": {
    "id": "rwGaxZ8p27O3"
   },
   "source": [
    "## 9.5 Calculating Alpha\n",
    "$\\alpha_t= \\frac{1}{2}ln\\left ( \\frac{1-\\epsilon_t}{\\epsilon_t} \\right )= \\;Significance\\; = \\frac{1}{2}ln\\left ( \\frac{1-Total\\; Error_t}{Total\\;  Error_t} \\right )$\n",
    "\n",
    "***Let's visualize Alpha for different error rates:***"
   ]
  },
  {
   "cell_type": "code",
   "metadata": {
    "id": "KAwUpe8A3Fjq"
   },
   "source": [
    "import numpy as np\n",
    "import matplotlib.pyplot as plt\n",
    "\n",
    "plt.rcParams['font.size'] = 18  # makes label size bigger\n",
    "plt.figure(figsize=(6,6))\n",
    "t = np.arange(0.01, 0.99, 0.001)\n",
    "s = (1/2)*np.log((1-t)/t)\n",
    "line, = plt.plot(t, s, lw=2)\n",
    "plt.ylim(-2.5, 2.5)\n",
    "plt.xlabel('Error Rate',fontsize = 14)\n",
    "plt.ylabel('Alpha',fontsize = 14)\n",
    "plt.title('Significance in AdaBoost')\n",
    "plt.show()"
   ],
   "execution_count": null,
   "outputs": []
  },
  {
   "cell_type": "markdown",
   "metadata": {
    "id": "zIdZixFN3LEf"
   },
   "source": [
    "**The above graph shows the intuition behind alpha in the final vote of the AdaBoost classifier:**\n",
    "\n",
    "1. The classifier weight grows exponentially as the error approaches 0.   \n",
    "    *Better classifiers are given exponentially more weight.*  \n",
    "    \n",
    "\n",
    "2. The classifier weight is zero if the error rate is 0.5.   \n",
    "     *A classifier with 50% accuracy is no better than random guessing, so we ignore it.*  \n",
    "     \n",
    "\n",
    "3. The classifier weight grows exponentially negative as the error approaches 1.   \n",
    "     *We give a negative weight to classifiers with worse than 50% accuracy.*   \n",
    "     *Whatever that classifier says, do the opposite!*"
   ]
  },
  {
   "cell_type": "markdown",
   "metadata": {
    "id": "6Fk3dolW3L0m"
   },
   "source": [
    "## 9.6 Updating the Weights\n",
    "We now update the weight for each record based on how well the current stump did overall and specifically for each record.\n",
    "\n",
    "**Incorrectly classified records**\n",
    "\n",
    "$w_{r,t+1} = w_{r,t} \\times e^{\\alpha_t} = New \\;Record \\;Weight \\;= \\;Record \\;Weight \\;\\times\\; e^{Significance}$\n",
    "\n",
    "*There is nothing fancy going on here!*  \n",
    "*All we do is raise $e$ to the power of the significance $\\alpha_t$*  \n",
    "*so that the new record weight grows exponentially*  \n",
    "*(which increases its chance of being drawn for the sample of the next stump).*  \n",
    "\n",
    "\n",
    "**Correctly classified records**  \n",
    "Finally, look at the records that the tree classified correctly,  \n",
    "and decrease their associated weights using the following formula:  \n",
    "\n",
    "$w_{r,t+1} = w_{r,t} \\times e^{- \\alpha_t} = New \\;Record \\;Weight \\;= \\;Record \\;Weight \\;\\times \\;e^{- Significance}$\n",
    "\n",
    "**Normalize Weights**  \n",
    "Finally, we normalize all weights (for all records) by dividing the new weights by the sum of new weights.   \n",
    "\n",
    "$\\frac{w_{r,t+1}}{\\sum_{r\\in R}w_{r,t+1}}$\n"
   ]
  },
  {
   "cell_type": "markdown",
   "metadata": {
    "id": "qjparEGe3R7n"
   },
   "source": [
    "## 9.7 Constructing the New  Dataset\n",
    "\n",
    "![AdaBoost1200](https://mapxp.app/BUSI488/AdaBoost1200.jpg)"
   ]
  },
  {
   "cell_type": "markdown",
   "metadata": {
    "id": "WuDsnr2i3ZDY"
   },
   "source": [
    "## 9.9 Desirable Outcomes!\n",
    "\n",
    "**Records which the previous stump incorrectly classified**\n",
    "- should be associated with larger weights ...   \n",
    "  ... so that they are more likely to be in the sample of the next stump   \n",
    "  \n",
    "  \n",
    "- than the records that the current stump classified correctly ...   \n",
    "  ... which will receive smaller weights and are thus less likely to be drawn in the next sample    \n",
    "  \n",
    "\n",
    "\n",
    "**Since the records that were incorrectly classified** have higher weights in relation to the others,   \n",
    "      ... the likelihood that the random number falls under their slice of the distribution is greater\n",
    "   \n",
    "**Consequence:**\n",
    "-  The new dataset will have a tendency to contain multiple copies of the records that were misclassified by the previous tree\n",
    "- When we go back to the step where we evaluate the predictions made by each decision tree,   \n",
    "  the one with the highest score will have correctly classified the records the previous tree misclassified.\n"
   ]
  },
  {
   "cell_type": "markdown",
   "metadata": {
    "id": "ZuVcb2Po3fg2"
   },
   "source": [
    "## 9.10 Let's have some Fools predict loan eligibility! (AdaBoost)\n",
    "\n",
    "![chainsaw](https://mapxp.app/MBA742/chainsaw.jpg)"
   ]
  },
  {
   "cell_type": "code",
   "metadata": {
    "id": "ojDj-Zhf3zz3"
   },
   "source": [
    "# Import models and utility functions\n",
    "from sklearn.ensemble import AdaBoostClassifier\n",
    "from sklearn.tree import DecisionTreeClassifier\n",
    "import IPython\n",
    "from sklearn.model_selection import train_test_split\n",
    "\n",
    "# Split data into 70% train and 30% test\n",
    "#Already done: X_train, X_test, y_train, y_test = train_test_split(X, y, test_size=0.3, stratify=y, random_state=42)\n",
    "\n",
    "# # Instantiate an \"fool\" classification-tree 'fool'\n",
    "fool = DecisionTreeClassifier(max_depth=1, criterion='gini', min_samples_leaf = 7, splitter = \"random\")\n",
    "\n",
    "# Instantiate an AdaBoost classifier 'adab_clf'\n",
    "adb_clf = AdaBoostClassifier(estimator=fool, n_estimators=25, learning_rate=.3, random_state=42)\n",
    "\n",
    "# Fit 'adb_clf' to the training set\n",
    "adb_clf.fit(X_train, y_train)\n",
    "\n",
    "# Predict the test data\n",
    "y_pred_ada = adb_clf.predict(X_test)"
   ],
   "execution_count": null,
   "outputs": []
  },
  {
   "cell_type": "markdown",
   "metadata": {
    "id": "eUToimar6cda"
   },
   "source": [
    "### ***So how about them fools?***\n",
    "Can they do better? Let's check!"
   ]
  },
  {
   "cell_type": "code",
   "metadata": {
    "id": "xpAdVyok5DS5"
   },
   "source": [
    "from sklearn.metrics import accuracy_score\n",
    "print(f'Decision Tree Accuracy: {round(accuracy_score(y_test, y_pred_dt)*100,2)}%')\n",
    "print(f'Bagging Accuracy: {round(accuracy_score(y_test, y_pred_bag)*100,2)}%')\n",
    "print(f'Random Forest Accuracy: {round(accuracy_score(y_test, y_pred_rf)*100,2)}%')\n",
    "print(f'Adaptive Boosting Accuracy: {round(accuracy_score(y_test, y_pred_ada)*100,2)}%')\n",
    "if accuracy_score(y_test, y_pred_ada) > accuracy_score(y_test, y_pred_rf): IPython.display.display(IPython.display.Audio(url=\"https://mapxp.app/MBA488/foolswin.wav\", autoplay=True))"
   ],
   "execution_count": null,
   "outputs": []
  },
  {
   "cell_type": "markdown",
   "source": [
    "# 10. XGBoost: Extreme Gradient Boosting\n",
    "\n",
    "***XGBoost is an optimized distributed gradient boosting library designed to be highly efficient, flexible and portable.***\n",
    "\n",
    "- Scalable, distributed gradient-boosted decision tree (GBDT) machine learning library.\n",
    "- Uses ensemble learning, that is, an ensemble of decision trees.\n",
    "- Implements machine learning algorithms under the Gradient Boosting framework.\n",
    "- Provides a parallel tree boosting (also known as GBDT, GBM) that solve many data science problems in a fast and accurate way.\n",
    "- The same code runs on major distributed environment (Hadoop, SGE, MPI) and can solve problems beyond billions of examples.\n",
    "\n",
    "**Gradient boosting** is\n",
    "- An extension of boosting where the process of additively generating weak models is formalized as a gradient descent algorithm over an objective function.\n",
    "- Gradient boosting sets targeted outcomes for the next model in an effort to minimize errors.\n",
    "- Targeted outcomes for each case are based on the gradient of the error (hence the name gradient boosting) with respect to the prediction.\n",
    "\n",
    "***Random forest “bagging” minimizes the variance and overfitting, whereas GBDT “boosting” minimizes the bias and underfitting.***\n",
    "\n",
    "*XGBoost is the leading machine learning library for regression, classification, and ranking problems:*\n",
    "\n",
    "\n",
    "\n",
    "[Read more about XGBoost](https://xgboost.readthedocs.io/en/stable/index.html)"
   ],
   "metadata": {
    "id": "4BhrMiNtWahv"
   }
  },
  {
   "cell_type": "code",
   "source": [
    "# Import XGBoost\n",
    "import xgboost as xgboost\n",
    "\n",
    "# Instantiate Classifier\n",
    "xgb = xgboost.XGBClassifier(n_estimators=25, subsample=.9,colsample_bytree=.1, eta=.3, seed=42)\n",
    "\n",
    "# Fit Classifier to training data\n",
    "xgb.fit(X_train, y_train)\n",
    "\n",
    "# Predict test data with trained classifier\n",
    "y_pred_xg = xgb.predict(X_test)\n",
    "\n",
    "# Evaluate performance of test predictions\n",
    "print(f'Extreme Gradient Boosting Accuracy: {round(accuracy_score(y_test, y_pred_xg)*100,2)}%')"
   ],
   "metadata": {
    "id": "U25LS3C__AYH"
   },
   "execution_count": null,
   "outputs": []
  }
 ]
}
