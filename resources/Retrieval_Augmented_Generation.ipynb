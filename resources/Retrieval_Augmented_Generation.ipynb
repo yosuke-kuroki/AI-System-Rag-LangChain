{
 "nbformat": 4,
 "nbformat_minor": 0,
 "metadata": {
  "colab": {
   "provenance": [],
   "machine_shape": "hm",
   "collapsed_sections": [
    "C1lOmkl7-Aad",
    "ylKetKLTwpfR",
    "MVMw-z4-Qx2f",
    "z38FzW4vRLwK"
   ]
  },
  "kernelspec": {
   "name": "python3",
   "display_name": "Python 3"
  },
  "language_info": {
   "name": "python"
  }
 },
 "cells": [
  {
   "cell_type": "markdown",
   "source": [
    "# **Retrieval Augmented Generation**\n",
    "\n",
    "This notebook will explore how to use a Retrieval-Augmented Generation (RAG) system to improve the performance of a chatbot.  We will compare the performance of a chatbot using the [Yeti chatbot](https://www.yeti.com/) with and without RAG."
   ],
   "metadata": {
    "id": "C1lOmkl7-Aad"
   }
  },
  {
   "cell_type": "code",
   "source": [
    "from IPython.display import HTML\n",
    "\n",
    "# Define the video URLs\n",
    "\n",
    "def show_videos(video_urls, width=420, height =280):\n",
    "  # Create the HTML for the side-by-side videos\n",
    "  html_code = \"\"\"<div style=\"display: flex;\">\"\"\" + \"\".join(f\"\"\"<div style=\"flex: 1;\">\n",
    "      <iframe width=\"{width}\" height = {height} src=\"{url}\" title=\"YouTube video player\" frameborder=\"0\" allow=\"accelerometer; autoplay; clipboard-write; encrypted-media; gyroscope; picture-in-picture; web-share\" allowfullscreen></iframe>\n",
    "    </div>\"\"\" for url in video_urls) + \"\"\"\n",
    "  </div>\n",
    "  \"\"\"\n",
    "\n",
    "  # Display the HTML\n",
    "  display(HTML(html_code))"
   ],
   "metadata": {
    "id": "A-l2tk8E6NIb"
   },
   "execution_count": 22,
   "outputs": []
  },
  {
   "cell_type": "markdown",
   "source": [
    "<!-- Scrollable Chatbot Transcript -->\n",
    "<div style=\"width: 100%; height: 4in; overflow-y: auto; border: 1px solid #ccc; padding: 10px; background-color: #f9f9f9; white-space: pre-wrap;\">\n",
    "\n",
    "\n",
    "</div>\n"
   ],
   "metadata": {
    "id": "3rAcrRkXu95L"
   }
  },
  {
   "cell_type": "markdown",
   "source": [
    "# 1. Motivation: Improving a chatbot with AI\n",
    "\n",
    "> In 2022 personalized experiences will drive loyalty, affinity, and become a greater differentiator with brands. -- _Stephanie Stafford, Director, customer experience at YETI_  in [this 2022 report on CX post-pandemic](https://customerthink.com/how-to-provide-more-personalized-customer-experiences/).\n",
    "\n",
    "The Yeti chatbot was created by ada.cx, likely during the pandemic.  (Googling +Yeti site:ada.cx shows ada.cx mentioning Yeti among the clients served by April 2021. The wayback machine can retrieve ada blog posts, including the [new capabilities at that time.](\n",
    "https://web.archive.org/web/20210918195003/https://www.ada.cx/posts/ada-new-machine-learning-ai-features).  Note the audiences are not always customers, but customer agengs and customer experience analysts, too!)  \n"
   ],
   "metadata": {
    "id": "gUm6dKIb6Ome"
   }
  },
  {
   "cell_type": "markdown",
   "source": [
    "## Yeti chatbot vs. chatGPT\n",
    "\n",
    "First, Dr. S asked if Yeti has anything for his recumbent trike...  Which answer is more personal? <!--![Jack's trike](https://i.pinimg.com/originals/7e/e0/5e/7ee05ea7ed09e57f7c6f22aafff0b508.jpg)-->\n"
   ],
   "metadata": {
    "id": "ylKetKLTwpfR"
   }
  },
  {
   "cell_type": "markdown",
   "source": [
    "### Transcript 1 with Yeti chatbot\n",
    "step by step exploration... (transcript emailed to me.)"
   ],
   "metadata": {
    "id": "MVMw-z4-Qx2f"
   }
  },
  {
   "cell_type": "markdown",
   "source": [
    "BOT: By participating in this chat, you agree to YETI's Privacy Policy.\n",
    "BOT: https://www.yeti.com/privacy-policy.html\n",
    "BOT: Hey there, I'm the YETI Virtual Outfitter.\n",
    "BOT: Now, what can I help you with today?\n",
    "\n",
    "USER: Do you have products for cyclists?\n",
    "\n",
    "BOT: I understand you're interested in YETI products for cyclists. Could you please specify what type of product you're looking for? For example, are you interested in drinkware, bags, or something else?\n",
    "\n",
    "USER: Drinkware and bags.\n",
    "\n",
    "BOT: Great choice! YETI offers a variety of products that are perfect for cyclists, including drinkware and bags. Here are some options you might be interested in:\n",
    "\n",
    "- **Drinkware**: YETI's drinkware is designed to keep your beverages at the perfect temperature, whether you're on a long ride or a short commute.\n",
    "- **Bags**: YETI bags are durable and versatile, ideal for carrying your essentials while cycling.\n",
    "\n",
    "Would you like more information on any specific product?\n",
    "\n",
    "USER: Yes, what bags do you recommend for a recumbent trike?\n",
    "\n",
    "BOT: I understand you're looking for a YETI bag suitable for a recumbent trike. Could you please specify what features or size you're looking for in a bag? This will help me provide a more tailored recommendation.\n",
    "\n",
    "> _Here I actually skipped out to explore the bags on the site, since I wasn't getting info from the chatbot.  When I returned I said:_\n",
    "\n",
    "USER: Something waaterproof that goes on a bike rack.\n",
    "\n",
    "BOT: For a waterproof bag that can be mounted on a bike rack, the **YETI Panga® Duffel** is a great option. It's designed to be durable and completely waterproof, making it ideal for cycling adventures, including use on a recumbent trike.\n",
    "\n",
    "Would you like more details on this product or assistance with anything else?\n",
    "\n",
    "USER: What are its dimensions and how does it attach?\n",
    "\n",
    "BOT: The **YETI Panga® Duffel** is a versatile and waterproof gear bag, perfect for keeping your belongings dry during your cycling adventures. Here are some details about its dimensions and attachment:\n",
    "\n",
    "- **Dimensions**: The Panga® Duffel comes in various sizes:\n",
    "  - Panga® 50L: 24.5\" × 14\" × 10\"\n",
    "  - Panga® 75L: 28\" × 15.5\" × 11\"\n",
    "  - Panga® 100L: 32.5\" × 17\" × 12\"\n",
    "\n",
    "- **Attachment**: While the Panga® Duffel is designed to be durable and waterproof, it does not come with specific attachments for bike racks. However, its reinforced QuickGrab Lash Points can be used to secure it to a bike rack using appropriate straps or bungee cords.\n",
    "\n",
    "Would you like more information on how to secure it or any other assistance?\n",
    "\n",
    "USER: Yes, how do you get something that large on a bike rack?\n",
    "\n",
    "BOT: To secure a large YETI Panga® Duffel on a bike rack, you can follow these general steps:\n",
    "\n",
    "- **Choose the Right Rack**: Ensure your bike rack is sturdy and can support the weight and size of the duffel.\n",
    "- **Use Straps or Bungee Cords**: Utilize the reinforced QuickGrab Lash Points on the Panga® Duffel to attach it securely to the bike rack. You can use durable straps or bungee cords for this purpose.\n",
    "- **Balance the Load**: Make sure the duffel is balanced on the rack to prevent any shifting during your ride.\n",
    "- **Check Stability**: Before setting off, double-check that the duffel is securely fastened and stable.\n",
    "\n",
    "If you need further assistance or have more questions, feel free to ask!\n",
    "\n",
    "> _Here I gave up, but didn't want to say anything because I didn't want to hurt the bot's feelings; it was clearly scripted to be positive..._"
   ],
   "metadata": {
    "id": "hcOhFVIaQ9Sq"
   }
  },
  {
   "cell_type": "markdown",
   "source": [
    "### chatGPT 4o [transcript](https://chatgpt.com/share/67b29c8c-cc30-8012-be07-8b0b371a95d2)\n",
    "\n",
    "**You:**\n",
    "\n",
    "Does Yeti make any bags suitable for the rack of a recumbent trike?\n",
    "\n",
    "* * *\n",
    "\n",
    "**ChatGPT:**\n",
    "\n",
    "YETI primarily designs bags for general outdoor use, such as backpacks, duffels, and tote bags. They do not offer bags specifically tailored for mounting on the racks of recumbent trikes. However, some of their products, like the SideKick Dry Gear Case, feature MOLLE (Modular Lightweight Load-carrying Equipment) compatibility, allowing them to attach to other MOLLE-equipped gear. While this feature is intended for use with YETI coolers and backpacks, it might be adaptable to certain bike rack systems with appropriate modifications. For optimal fit and functionality, it's advisable to consider bags specifically designed for recumbent trikes. Brands like Radical Design specialize in recumbent bags that are tailored to fit various trike models and racks, ensuring secure attachment and ease of use. [radicaldesign.com](https://www.radicaldesign.com/recumbent-bags?utm_source=chatgpt.com)\n",
    "\n",
    "For a visual overview of available storage solutions for recumbent trikes, you might find this video helpful: https://youtu.be/IR7ufzfw84k\n",
    "\n",
    "Sources![Favicon](https://www.google.com/s2/favicons?domain=https://www.radicaldesign.com&sz=32)"
   ],
   "metadata": {
    "id": "QySgEGFYr0Qf"
   }
  },
  {
   "cell_type": "markdown",
   "source": [
    "### Transcript 2 with Yeti chatbot\n",
    "asking the same detailed question I asked chatGPT (copied from the chat window)\n"
   ],
   "metadata": {
    "id": "z38FzW4vRLwK"
   }
  },
  {
   "cell_type": "markdown",
   "source": [
    "\n",
    "![](https://static.ada.support/images/fdee74ff-d394-4e53-b3cf-8410509263ee.svg)\n",
    "\n",
    "\n",
    "Hey there, I'm the YETI Virtual Outfitter.\n",
    "\n",
    "Now, what can I help you with today?\n",
    "\n",
    "> Does Yeti make any bags suitable for the rack of a recumbent trike?\n",
    "\n",
    "![](https://static.ada.support/images/fdee74ff-d394-4e53-b3cf-8410509263ee.svg)\n",
    "\n",
    "I understand you're looking for a YETI bag suitable for a recumbent trike rack. Could you please specify what type of bag you're interested in, such as a cooler bag, gear bag, or another type? This will help me provide more accurate information.\n",
    "\n",
    "> gear bag\n",
    "\n",
    "![](https://static.ada.support/images/fdee74ff-d394-4e53-b3cf-8410509263ee.svg)\n",
    "\n",
    "I'm here to assist with any questions or concerns you might have about YETI Coolers. If you have any inquiries related to our products, feel free to ask!\n",
    "\n",
    "> Does Yeti make any gear bags suitable for the rack of a recumbent trike?\n",
    "\n",
    "![](https://static.ada.support/images/fdee74ff-d394-4e53-b3cf-8410509263ee.svg)\n",
    "\n",
    "I'm here to assist with any questions or concerns you might have about YETI Coolers. If you have any inquiries related to our products, feel free to ask!\n",
    "\n",
    "> Does Yeti make any coolers suitable for the rack of a recumbent trike?\n",
    "\n",
    "![](https://static.ada.support/images/fdee74ff-d394-4e53-b3cf-8410509263ee.svg)\n",
    "\n",
    "Thank you for your question about YETI coolers suitable for a recumbent trike rack. While we don't have specific information on compatibility with recumbent trike racks, our YETI Roadie® Hard Coolers are designed for mobility and durability, making them a potential option for your needs. Here are some features of the Roadie® Coolers:\n",
    "\n",
    "- Built with RockSolid Strength and PermaFrost Insulation for excellent ice retention.\n",
    "- Available in various sizes, including compact options like the Roadie® 15 and Roadie® 24, which are portable and easy to transport.\n",
    "- Equipped with durable handles and rugged wheels for easy maneuverability.\n",
    "\n",
    "If you have any more questions or need further assistance, feel free to ask!\n"
   ],
   "metadata": {
    "id": "SP5tc-tErU1U"
   }
  },
  {
   "cell_type": "markdown",
   "source": [
    "# 2. What is Retrieval-Augmented Generation (RAG)?\n",
    "\n",
    "**What is a RAG**, and how does it fit in with\n",
    "\n",
    "1. Foundation models for language via embedding and generation (BERT, GPT o1-mini, Deepseek r1)\n",
    "1. Applications of embeddings to tasks like Classification or Topic identification (BERTtopic)\n",
    "1. Fine-tuning foundation models for a specific domain (SBERT, synthetic experts)\n",
    "1. AI agents working together (crewai)\n",
    "1. Retrieval-Auwgmented Generation (NotebookLM, Carla & Wagner at https://ringel.ai)\n",
    "\n",
    "In brief, RAG is a way to make a Foundational model more focussed on a specific application domain and less likely to halucinate when it has insufficient data.  \n",
    "- To train a RAG, the RAG creator preprocesses a chosen set of source documents and stores chunks with their embedding vectors and source information.  \n",
    "- In use, a user's query is embedded and used to retrieve relevant chunks. These are assembled into a prompt for a general LLM that is given the task of creating the response and justifying it from the sources.\n"
   ],
   "metadata": {
    "id": "kRmcRCGiWnD3"
   }
  },
  {
   "cell_type": "code",
   "source": [
    "show_videos([\n",
    "    \"https://www.youtube.com/embed/KBRvB_NDY-o?si=5YazsvzuaHgLzrWp\",\n",
    "    \"https://www.youtube.com/embed/T-D1OfcDW1M?si=UJSMCQblXpRK6_4H\",\n",
    "    \"https://www.youtube.com/embed/jF1zgIahNsM?si=enduhlikGQJJMJJp\"\n",
    "])"
   ],
   "metadata": {
    "colab": {
     "base_uri": "https://localhost:8080/",
     "height": 301
    },
    "id": "_1hUqMcf3KK4",
    "outputId": "64e4d225-d0ad-4922-f568-60c5cf2797bd"
   },
   "execution_count": 23,
   "outputs": [
    {
     "output_type": "display_data",
     "data": {
      "text/plain": [
       "<IPython.core.display.HTML object>"
      ],
      "text/html": [
       "<div style=\"display: flex;\"><div style=\"flex: 1;\">\n",
       "      <iframe width=\"420\" height = 280 src=\"https://www.youtube.com/embed/KBRvB_NDY-o?si=5YazsvzuaHgLzrWp\" title=\"YouTube video player\" frameborder=\"0\" allow=\"accelerometer; autoplay; clipboard-write; encrypted-media; gyroscope; picture-in-picture; web-share\" allowfullscreen></iframe>\n",
       "    </div><div style=\"flex: 1;\">\n",
       "      <iframe width=\"420\" height = 280 src=\"https://www.youtube.com/embed/T-D1OfcDW1M?si=UJSMCQblXpRK6_4H\" title=\"YouTube video player\" frameborder=\"0\" allow=\"accelerometer; autoplay; clipboard-write; encrypted-media; gyroscope; picture-in-picture; web-share\" allowfullscreen></iframe>\n",
       "    </div><div style=\"flex: 1;\">\n",
       "      <iframe width=\"420\" height = 280 src=\"https://www.youtube.com/embed/jF1zgIahNsM?si=enduhlikGQJJMJJp\" title=\"YouTube video player\" frameborder=\"0\" allow=\"accelerometer; autoplay; clipboard-write; encrypted-media; gyroscope; picture-in-picture; web-share\" allowfullscreen></iframe>\n",
       "    </div>\n",
       "  </div>\n",
       "  "
      ]
     },
     "metadata": {}
    }
   ]
  },
  {
   "cell_type": "markdown",
   "source": [
    "I think it is useful to consider the components and what type of data (mostly unstructured text and vectors of numbers) flows between them in both training and deployment of these models.  \n"
   ],
   "metadata": {
    "id": "IR8ROUq72jHS"
   }
  },
  {
   "cell_type": "markdown",
   "source": [
    "\n",
    "## 2.1 Language shapes thinking\n",
    "The Whorf-Sapir hypothesis (weak version, aka [linguistic relativity](https://en.wikipedia.org/wiki/Linguistic_relativity)) is that *language shapes what we can experience and how we can think about it.*\n",
    "\n",
    "There is debate about how much this applies to human language (with stories about distinguishing blue and green, or the number of words for snow), but it provides a useful framework to organize how  components are trained and deployed in various applications of Large Language Models (LLMs).\n",
    "\n",
    "The messages communicated between components are\n",
    "1. Unstructured text: Huge corpus for training the foundational model, Domain-specific documents for fine-tuning, prompt given to LLM, user query\n",
    "2. Numerical vectors: embeddings of words, sentences, or paragraphs from unstructured text\n",
    "3. Model parameters: Huge numbers for the foundation model, smaller set for fine-tuning.\n",
    "\n",
    "\n",
    "\n",
    "\n",
    "\n"
   ],
   "metadata": {
    "id": "pAgLDpXRGu4J"
   }
  },
  {
   "cell_type": "code",
   "source": [
    "IFrame(src=\"https://www.youtube.com/embed/00Q0G84kq3M?si=SvD2IuDNf9eNXBG6\", width=\"280\", height=\"178\")"
   ],
   "metadata": {
    "colab": {
     "base_uri": "https://localhost:8080/",
     "height": 199
    },
    "id": "mTjKnD19MN9Z",
    "outputId": "06637a8a-d934-43bb-989b-256472e73e7a"
   },
   "execution_count": 1,
   "outputs": [
    {
     "output_type": "execute_result",
     "data": {
      "text/plain": [
       "<IPython.lib.display.IFrame at 0x792a71c1fe10>"
      ],
      "text/html": [
       "\n",
       "        <iframe\n",
       "            width=\"280\"\n",
       "            height=\"178\"\n",
       "            src=\"https://www.youtube.com/embed/00Q0G84kq3M?si=SvD2IuDNf9eNXBG6\"\n",
       "            frameborder=\"0\"\n",
       "            allowfullscreen\n",
       "            \n",
       "        ></iframe>\n",
       "        "
      ]
     },
     "metadata": {},
     "execution_count": 1
    }
   ]
  }
 ]
}
